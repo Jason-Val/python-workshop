{
 "cells": [
  {
   "cell_type": "markdown",
   "metadata": {},
   "source": [
    "<h1>Intro to Python with PyU4V</h1>\n",
    "<h2>Setup</h2>\n",
    "<ol>\n",
    "    <li> Download Python </li>\n",
    "    <li> Download Jupyter Labs </li>\n",
    "    <li> Download workshop notebook </li>\n",
    "    <li> Open in Jupetyr Labs </li>\n",
    "</ol>\n",
    "<h2>Basic Variables</h2>\n",
    "<table style=\"width:100%\">\n",
    "  <tr>\n",
    "    <th>Type</th>\n",
    "    <th>Examples</th> \n",
    "  </tr>\n",
    "  <tr>\n",
    "    <td>Integers</td>\n",
    "    <td><code>4</code></td> \n",
    "  </tr>\n",
    "  <tr>\n",
    "    <td>Floats</td>\n",
    "    <td><code>4.3</code></td> \n",
    "  </tr>\n",
    "  <tr>\n",
    "    <td>Booleans</td>\n",
    "    <td><code>True</code></td> \n",
    "  </tr>\n",
    "  <tr>\n",
    "    <td>Strings</td>\n",
    "    <td><code>\"Hello!\", 'Me too!'</code></td> \n",
    "  </tr>\n",
    "  <tr>\n",
    "    <td>Tuples</td>\n",
    "    <td><code>(1, 2, 3, 4)</code></td> \n",
    "  </tr>\n",
    "  <tr>\n",
    "    <td>Lists</td>\n",
    "    <td><code>[1, 2, 3, 4]</code></td> \n",
    "  </tr>\n",
    "  <tr>\n",
    "    <td>Dictionaries</td>\n",
    "    <td><code>{'name': 'apple', 'color': 'red'}</code></td> \n",
    "  </tr>\n",
    "  <tr>\n",
    "    <td>Sets</td>\n",
    "    <td><code>set(1, 2, 3, 4)</code></td> \n",
    "  </tr>\n",
    "</table>"
   ]
  },
  {
   "cell_type": "code",
   "execution_count": 5,
   "metadata": {},
   "outputs": [
    {
     "name": "stdout",
     "output_type": "stream",
     "text": [
      "<class 'int'>\n",
      "<class 'int'>\n",
      "<class 'float'>\n",
      "1\n",
      "[1, 2, 3, 4, 5, 6, 0]\n",
      "[1, 2, 3, 4, 5, 6, 0]\n",
      "[2, 3, 4, 5, 6]\n",
      "[1, 2, 3, 4]\n",
      "[5, 6, 0]\n",
      "TypeError(\"'tuple' object does not support item assignment\")\n",
      "Tuples are immutable; you can't edit them like lists\n"
     ]
    }
   ],
   "source": [
    "# assignment and basic operations (integers, strings, booleans)\n",
    "x = 4              # integers\n",
    "x = 4 + 2          # addition\n",
    "x = 4.3            # overwriting a variable\n",
    "\n",
    "b = True                  # booleans\n",
    "b = b and (False or True) # boolean operations\n",
    "\n",
    "s = \"Hello!\"       # strings\n",
    "s = 'me ' + 'too'  # string addition\n",
    "\n",
    "# automatic casting\n",
    "i = 5\n",
    "print(type(i))\n",
    "f = 5.5\n",
    "print(type(f))\n",
    "x = i + f\n",
    "print(type(x))     # python can add integers to floats without trouble\n",
    "\n",
    "# basic list operations\n",
    "l = [1, 2, 3, 4, 5]\n",
    "print(l[0])        # lists are indexed by [] and start at 0\n",
    "l[3] = 10          # use assignment (=) to overwrite values\n",
    "l = [1, 2, 3] + [4, 5, 6]        # lists can be added too\n",
    "l.append(7)                      # and appended to\n",
    "\n",
    "# reverse indexing\n",
    "l[-1] = 0\n",
    "print(l)\n",
    "\n",
    "# slicing\n",
    "size = len(l)        # how many elements are in the list\n",
    "print(l[0:size])     # start (inclusive) : end (exclusive)\n",
    "print(l[1:size-1])   # a subset of the array\n",
    "print(l[:size-3])    # can exclude one end or the other for a reasonable default\n",
    "print(l[4:])\n",
    "l[1:3] = [-2, -1]    # can write many values at once using splicing\n",
    "\n",
    "# tuples\n",
    "t = (1, 2, 3)\n",
    "print(t[0])\n",
    "try:                 # errors can be caught using try/catch statements\n",
    "    t[0] = 4         # scope is given by indenting code\n",
    "except TypeError as te:\n",
    "    print(repr(te))\n",
    "    print(\"Tuples are immutable; you can't edit them like lists\")"
   ]
  },
  {
   "cell_type": "markdown",
   "metadata": {},
   "source": [
    "<h2>Functions</h2>"
   ]
  },
  {
   "cell_type": "code",
   "execution_count": 8,
   "metadata": {},
   "outputs": [
    {
     "name": "stdout",
     "output_type": "stream",
     "text": [
      "8\n",
      "ab\n",
      "[1, 2, 3, 4]\n",
      "\tadd_all was passed args=(1, 2, 3, 4)\n",
      "\tadd_all was passed args=((1, 2, 3, 4),)\n",
      "TypeError(\"unsupported operand type(s) for +: 'int' and 'tuple'\")\n",
      "Passing a list in causes it to be nested within a tuple, which doesn't work with sum and throws an error\n",
      "\tadd_all was passed args=(1, 2, 3, 4)\n"
     ]
    },
    {
     "data": {
      "text/plain": [
       "10"
      ]
     },
     "execution_count": 8,
     "metadata": {},
     "output_type": "execute_result"
    }
   ],
   "source": [
    "# make an addition function\n",
    "\"\"\"\n",
    "Triple quotations create a block comment.\n",
    "A function has five parts:\n",
    " -the keyword \"def\"\n",
    " -the function name (\"add\")\n",
    " -parenthesis and a colon (can also have arguments like \"num1, num2\")\n",
    " -an indented body of code to execute (can also return a value with \"return\")\n",
    "\"\"\"\n",
    "def add(num1, num2):          # this function takes two numbers and returns their sum\n",
    "    return num1 + num2\n",
    "\n",
    "x = add(5, 3)\n",
    "print(x)\n",
    "print(add('a', 'b'))          # argument types are not enforced, so it also works for strings and lists\n",
    "print(add([1, 2], [3, 4]))\n",
    "\n",
    "# hello function\n",
    "def hello():                  # this function has no arguments and no return value\n",
    "    print(\"hello!\")\n",
    "\n",
    "# make a generalized addition function using packing/unpacking\n",
    "def add_all(*args):           # adding a '*' packs many arguments into one tuple\n",
    "    print(\"\\tadd_all was passed args={}\".format(args))               # calling add_all(1, 2, 3, 4) sets args = (1, 2, 3, 4), a single tuple\n",
    "    return sum(args)          # the sum function takes a list or tuple and adds all of the elements together\n",
    "\n",
    "add_all(1, 2, 3, 4)\n",
    "l = 1, 2, 3, 4\n",
    "try:\n",
    "    add_all(l)                # the function expects many individual arguments, not one list\n",
    "except TypeError as te:\n",
    "    print(repr(te))\n",
    "    print(\"Passing a list in causes it to be nested within a tuple, which doesn't work with sum and throws an error\")\n",
    "\n",
    "add_all(*l)                   # using '*' in this context unpacks the arguments, taking them out of the list"
   ]
  },
  {
   "cell_type": "markdown",
   "metadata": {},
   "source": [
    "<h2>Closures - Making Factory Functions</h2>\n",
    "<p>Functions can be nested within each other, and the inner function inherits the parent's state. Nesting functions can make code more readible, hide inner functions that aren't relevant to the rest of the codebase, or create closures.</p>\n",
    "<p>Closures are functions which return other functions. The functions returned are parametized on the outer function's arguments, and may use the outer scope to maintain state or \"memory.\"</p>"
   ]
  },
  {
   "cell_type": "code",
   "execution_count": 10,
   "metadata": {},
   "outputs": [
    {
     "name": "stdout",
     "output_type": "stream",
     "text": [
      "4\n",
      "9\n",
      "16\n",
      "8\n",
      "I was called 1 times\n",
      "I was called 2 times\n",
      "I was called 3 times\n"
     ]
    }
   ],
   "source": [
    "def generate_power(nth_power):                 # this function creates a power function\n",
    "    def raise_to_power(x):\n",
    "        return x**nth_power\n",
    "    return raise_to_power\n",
    "\n",
    "square = generate_power(2)                     # square can now be used to raise it's argument to the second power\n",
    "print(square(2))\n",
    "print(square(3))\n",
    "print(square(4))\n",
    "\n",
    "cube = generate_power(3)                       # cube can now be used to raise it's argument to the third power\n",
    "print(cube(2))\n",
    "\n",
    "def state_function():                          # this function demonstrates using the outer scope for \"memory\"\n",
    "    count = 0\n",
    "    def foo():\n",
    "        nonlocal count                         # nonlocal indicates that a variable is defined in an outer scope\n",
    "        count += 1\n",
    "        print(\"I was called {} times\".format(count))\n",
    "    return foo\n",
    "\n",
    "call_me = state_function()\n",
    "call_me()                                      # although the arguments don't change, it changes the \"count\" variable with each call\n",
    "call_me()\n",
    "call_me()"
   ]
  },
  {
   "cell_type": "markdown",
   "metadata": {},
   "source": [
    "<h2>Lists and Looping</h2>"
   ]
  },
  {
   "cell_type": "markdown",
   "metadata": {},
   "source": [
    "<h4>If, Else</h4>"
   ]
  },
  {
   "cell_type": "code",
   "execution_count": null,
   "metadata": {},
   "outputs": [],
   "source": [
    "# if\n",
    "condition = True\n",
    "if condition:                                 # if statements check a condition and then execute code in their body\n",
    "    print(\"The condition was true\")           # try changing the condition to False\n",
    "else:\n",
    "    print(\"The condition was false\")\n",
    "\n",
    "if 5 < 10:\n",
    "    print(\"An else statement isn't required\")\n",
    "    \n",
    "# if elif\n",
    "x = 5\n",
    "if x < 3:\n",
    "    print(\"x is less than three\")\n",
    "elif x > 7:                                   # elif stands for \"else if.\" Many of these can be chained together\n",
    "    print(\"x is greater than seven\")\n",
    "else:\n",
    "    print(\"x is between three and seven\")\n",
    "\n",
    "# inline if\n",
    "inline_condition = x == 5\n",
    "true_result = 10\n",
    "false_result = 0\n",
    "y = true_result if inline_condition else false_result     # an if statement can be written in one line. the 'else' is optional here too\n",
    "print(y)"
   ]
  },
  {
   "cell_type": "markdown",
   "metadata": {},
   "source": [
    "<h4>Looping</h4>"
   ]
  },
  {
   "cell_type": "code",
   "execution_count": 6,
   "metadata": {},
   "outputs": [
    {
     "name": "stdout",
     "output_type": "stream",
     "text": [
      "Simple iteration:\n",
      "1\n",
      "2\n",
      "3\n",
      "4\n",
      "5\n",
      "Ranges:\n",
      "range(0, 5)\n",
      "[2, 3]\n",
      "0\n",
      "1\n",
      "2\n",
      "3\n",
      "[0, 2, 4, 6, 8]\n",
      "[5, 4, 3, 2, 1]\n",
      "Iterating using 'while'\n",
      "0\n",
      "1\n",
      "2\n",
      "3\n",
      "4\n",
      "Iterating with 'break' and 'continue'\n",
      "1\n",
      "2\n",
      "skipping this value...\n",
      "skipping this value...\n",
      "skipping this value...\n",
      "6\n",
      "7\n",
      "i is 8, so stop here\n"
     ]
    }
   ],
   "source": [
    "# for over list\n",
    "print(\"Simple iteration:\")\n",
    "for item in [1, 2, 3, 4, 5]:\n",
    "    print(item)\n",
    "\n",
    "print(\"Ranges:\")\n",
    "# range\n",
    "print(range(0, 5))         # range is an object which can be iterated over\n",
    "print(list(range(2, 4)))   # it can be easily converted to a list. its left boundary is inclusive and its right boundary is exclusive\n",
    "for item in range(4):      # with only one argument, the right boundary is assumed to be 0\n",
    "    print(item)\n",
    "print(list(range(0, 10, 2)))    # the third argument is its stride\n",
    "print(list(range(5, 0, -1)))    # it can also be used to iterate backwards\n",
    "\n",
    "print(\"Iterating using 'while'\")\n",
    "# while\n",
    "i = 0\n",
    "while i < 5:                    # while loops execute as long as their condition evaluates to True\n",
    "    print(i)\n",
    "    i += 1\n",
    "\n",
    "print(\"Iterating with 'break' and 'continue'\")\n",
    "# break, continue\n",
    "i = 0\n",
    "while i < 10:\n",
    "    i += 1\n",
    "    if i in range(3, 6):\n",
    "        print(\"skipping this value...\")\n",
    "        continue                # the \"continue\" keyword skips the iteration that one time\n",
    "    if i == 8:\n",
    "        print(\"i is 8, so stop here\")\n",
    "        break                   # the \"break\" keyword ends the iteration entirely\n",
    "    print(i)\n"
   ]
  },
  {
   "cell_type": "markdown",
   "metadata": {},
   "source": [
    "<h2>Advanced Looping - List Comprehensions</h2>\n",
    "<p>We can rewrite for loops that construct lists in one line using list comprehensions.</p>"
   ]
  },
  {
   "cell_type": "code",
   "execution_count": 8,
   "metadata": {},
   "outputs": [
    {
     "name": "stdout",
     "output_type": "stream",
     "text": [
      "using for loop: [0, 1, 4, 9, 16]\n",
      "using a list comprehension: [0, 1, 4, 9, 16]\n",
      "[1, 2, 3, 4, 5, 6, 7, 8]\n"
     ]
    }
   ],
   "source": [
    "# list comprehensions simple\n",
    "power_list = []\n",
    "for i in range(5):                               # using a for loop\n",
    "    power_list.append(i**2)\n",
    "print(\"using for loop: {}\".format(power_list))\n",
    "\n",
    "comp_list = [x**2 for x in range(5)]             # using a list comprehension\n",
    "print(\"using a list comprehension: {}\".format(comp_list))\n",
    "\n",
    "# advanced\n",
    "l = [[1, 2, 3], [4, 5, 6], [7, 8]]               # this list is nested. We want to flatten it\n",
    "sublist = None\n",
    "item = None\n",
    "\n",
    "flat_list = []\n",
    "for sublist in l:                                # this loop flattens the list, but it's cumbersome\n",
    "    for item in sublist:\n",
    "        flat_list.append(item)\n",
    "\n",
    "# this line does the same thing as above, and can be read the same way as the nested loops\n",
    "flat_list_2 = [item for sublist in l for item in sublist]\n",
    "print(flat_list_2)"
   ]
  },
  {
   "cell_type": "markdown",
   "metadata": {},
   "source": [
    "<h2>Dictionaries</h2>\n",
    "<p>Dictionaries are a way of stucturing data. They organize data as key/value pairs and are very powerful. Dictionaries can be nested to create complex structures.</p>"
   ]
  },
  {
   "cell_type": "code",
   "execution_count": 12,
   "metadata": {},
   "outputs": [
    {
     "name": "stdout",
     "output_type": "stream",
     "text": [
      "array_update\n",
      "value is overwritten\n",
      "Iterate by key:\n",
      "\tdate\n",
      "\tcategory\n",
      "\terror\n",
      "\tsucceeded\n",
      "Iterate by value:\n",
      "\t2019-08-07 13:37:20.438109\n",
      "\tvalue is overwritten\n",
      "\tNone\n",
      "\tTrue\n",
      "Iterate by both:\n",
      "\tdate: 2019-08-07 13:37:20.438109\n",
      "\tcategory: value is overwritten\n",
      "\terror: None\n",
      "\tsucceeded: True\n"
     ]
    }
   ],
   "source": [
    "import datetime\n",
    "\n",
    "# dictionaries - status report 1 (date, category, error, succeeded)\n",
    "status_report = {\n",
    "    'date': datetime.datetime.now(),\n",
    "    'category': 'array_update',\n",
    "    'error': None,\n",
    "    'succeeded': True\n",
    "}\n",
    "\n",
    "# accessing dictionary elements\n",
    "print(status_report['category'])\n",
    "status_report['category'] = 'value is overwritten'\n",
    "print(status_report['category'])\n",
    "\n",
    "# iteration\n",
    "print(\"Iterate by key:\")\n",
    "for key in status_report.keys():\n",
    "    print(\"\\t{}\".format(key))\n",
    "    \n",
    "print(\"Iterate by value:\")\n",
    "for value in status_report.values():\n",
    "    print(\"\\t{}\".format(value))\n",
    "    \n",
    "print(\"Iterate by both:\")\n",
    "for key, value in status_report.items():\n",
    "    print(\"\\t{}: {}\".format(key, value))"
   ]
  },
  {
   "cell_type": "markdown",
   "metadata": {},
   "source": [
    "<h4>Example usage: counting letter occurrances</h4>"
   ]
  },
  {
   "cell_type": "code",
   "execution_count": 15,
   "metadata": {},
   "outputs": [
    {
     "name": "stdout",
     "output_type": "stream",
     "text": [
      "initial dictionary:\n",
      "{'a': 0, 'b': 0, 'c': 0, 'd': 0, 'e': 0, 'f': 0, 'g': 0, 'h': 0, 'i': 0, 'j': 0, 'k': 0, 'l': 0, 'm': 0, 'n': 0, 'o': 0, 'p': 0, 'q': 0, 'r': 0, 's': 0, 't': 0, 'u': 0, 'v': 0, 'w': 0, 'x': 0, 'y': 0, 'z': 0}\n",
      "final dictionary:\n",
      "{'a': 13, 'b': 2, 'c': 9, 'd': 11, 'e': 29, 'f': 2, 'g': 11, 'h': 14, 'i': 14, 'j': 0, 'k': 0, 'l': 14, 'm': 3, 'n': 17, 'o': 25, 'p': 6, 'q': 0, 'r': 17, 's': 13, 't': 18, 'u': 6, 'v': 4, 'w': 4, 'x': 0, 'y': 5, 'z': 0}\n"
     ]
    }
   ],
   "source": [
    "import string\n",
    "text = \"\"\"Our story began with two technology companies and one shared vision: to provide greater access to technology for people \n",
    "    around the world. Dell Technologies is instrumental in changing the digital landscape the world over, fuelled by the desire \n",
    "    to drive human progress through technology.\"\"\"\n",
    "print(\"initial dictionary:\")\n",
    "character_count = dict(zip(string.ascii_lowercase, [0]*26))\n",
    "print(character_count)\n",
    "for char in text:\n",
    "    if char in character_count:\n",
    "        character_count[char] += 1\n",
    "print(\"final dictionary:\")\n",
    "print(character_count)"
   ]
  },
  {
   "cell_type": "markdown",
   "metadata": {},
   "source": [
    "<h2>Classes</h2>"
   ]
  },
  {
   "cell_type": "code",
   "execution_count": 20,
   "metadata": {},
   "outputs": [
    {
     "name": "stdout",
     "output_type": "stream",
     "text": [
      "The new reports:\n",
      "id: 0, category: array_reset\n",
      "id: 1, category: array_reset\n",
      "StatusReport._count=2\n",
      "now StatusReport._count=3\n",
      "and now StatusReport._count=4\n",
      "id: 0, category: new category\n"
     ]
    }
   ],
   "source": [
    "# status report 2\n",
    "class StatusReport(object):\n",
    "    _count = 0\n",
    "    \n",
    "    def __init__(self, category, succeeded=True):\n",
    "        self.id = StatusReport._count\n",
    "        StatusReport._count += 1\n",
    "        self.date = datetime.datetime.now()\n",
    "        self.category = category\n",
    "        self.error = None\n",
    "        self.succeeded = succeeded\n",
    "        \n",
    "    def set_error(self, error):\n",
    "        self.error = error\n",
    "        self.succeeded = False\n",
    "    \n",
    "    def __str__(self):\n",
    "        return str(\"id: {}, category: {}\".format(self.id, self.category))\n",
    "    \n",
    "    def __call__(self):\n",
    "        return \"I was called!\"\n",
    "    \n",
    "    def __getitem__(self, key):\n",
    "        return \"I was indexed with key {}\".format(key)\n",
    "    \n",
    "report = StatusReport('array_reset', succeeded=True)                         # this creates a new StatusReport called report\n",
    "report2 = StatusReport('array_reset')                                        # since succeeded is a key word argument, it can be excluded\n",
    "\n",
    "print(\"The new reports:\")\n",
    "print(report)             # since the __str__ method is overriden, the output is custom\n",
    "print(report2)            # notice that the id is different; it counts up\n",
    "\n",
    "print(\"StatusReport._count={}\".format(StatusReport._count))                  # class variables are shared with all instances of the class\n",
    "StatusReport('whatever')\n",
    "print(\"now StatusReport._count={}\".format(StatusReport._count))\n",
    "StatusReport('whatever')\n",
    "print(\"and now StatusReport._count={}\".format(StatusReport._count))\n",
    "\n",
    "report.category = 'new category'                                # instance variables are accessed with '.' and can be overwritten\n",
    "report.set_error('new error')                                   # instance functions are also accessed with '.'\n",
    "print(report)"
   ]
  },
  {
   "cell_type": "markdown",
   "metadata": {},
   "source": [
    "<h4>Inheritance</h4>\n",
    "<p>Classes can inherit from others. This lets you create more specific sub-types. Subclasses can override parent data and functions or add additional data and functions.</p>"
   ]
  },
  {
   "cell_type": "code",
   "execution_count": 19,
   "metadata": {},
   "outputs": [
    {
     "name": "stdout",
     "output_type": "stream",
     "text": [
      "id: 4, category: ReportType.RESET\n"
     ]
    }
   ],
   "source": [
    "from enum import Enum\n",
    "\n",
    "class ReportType(Enum):\n",
    "    RESET = 0\n",
    "    PROVISION = 1\n",
    "    SHUTDOWN = 2\n",
    "\n",
    "class ResetReport(StatusReport):\n",
    "    def __init__(self, reset_method, succeeded=True):\n",
    "        super().__init__(ReportType.RESET, succeeded)       # calls to super invoke parent behavior\n",
    "        self.reset_method = reset_method                    # add new data\n",
    "        \n",
    "    def set_error(self, error):                             # overrides parent function\n",
    "        print(\"overridden!\")\n",
    "        super().set_error(error)\n",
    "        \n",
    "reset = ResetReport('manual')\n",
    "print(reset)"
   ]
  },
  {
   "cell_type": "markdown",
   "metadata": {},
   "source": [
    "<h2>Looping Again - Looping Wizardry</h2>"
   ]
  },
  {
   "cell_type": "code",
   "execution_count": 24,
   "metadata": {},
   "outputs": [
    {
     "name": "stdout",
     "output_type": "stream",
     "text": [
      "Getting list...\n",
      "\tCalculating next datetime...\n",
      "\tCalculating next datetime...\n",
      "\tCalculating next datetime...\n",
      "\tCalculating next datetime...\n",
      "\tCalculating next datetime...\n",
      "\tCalculating next datetime...\n",
      "Done\n"
     ]
    }
   ],
   "source": [
    "import datetime\n",
    "import time\n",
    "\n",
    "# setup - create a list of datetimes and a function that extracts the second from a datetime\n",
    "d = datetime.datetime.now()\n",
    "\n",
    "def get_next():\n",
    "    print(\"\\tCalculating next datetime...\")\n",
    "    time.sleep(1)\n",
    "    return datetime.datetime.now()\n",
    "\n",
    "print(\"Getting list...\")\n",
    "date_list = [get_next() for x in range(6)]\n",
    "print(\"Done\")\n",
    "\n",
    "def get_second(datetime_obj):\n",
    "    return datetime_obj.second"
   ]
  },
  {
   "cell_type": "markdown",
   "metadata": {},
   "source": [
    "<h4>Map, Filter, and Reduce</h4>\n",
    "<p>Map, filter, and reduce are functional programming style functions for manipulating lists and other iterables. They operate in one line and often use lambda functions. They are lazily evaluated and only calculate the next value once requested</p>\n",
    "<ul>\n",
    "    <li><b>map</b>: iterate over a list and replace each item with something else</li>\n",
    "    <li><b>filter</b>: filter out specific items from a list</li>\n",
    "    <li><b>reduce</b>: process two items of a list at the same time and compound the results</li>\n",
    "</ul>"
   ]
  },
  {
   "cell_type": "code",
   "execution_count": 32,
   "metadata": {},
   "outputs": [
    {
     "name": "stdout",
     "output_type": "stream",
     "text": [
      "original list:\n",
      "[datetime.datetime(2019, 8, 7, 14, 16, 42, 200221), datetime.datetime(2019, 8, 7, 14, 16, 43, 203293), datetime.datetime(2019, 8, 7, 14, 16, 44, 206093), datetime.datetime(2019, 8, 7, 14, 16, 45, 206233), datetime.datetime(2019, 8, 7, 14, 16, 46, 206974), datetime.datetime(2019, 8, 7, 14, 16, 47, 208208)]\n",
      "seconds list:\n",
      "[42, 43, 44, 45, 46, 47]\n"
     ]
    }
   ],
   "source": [
    "from functools import reduce\n",
    "\n",
    "# map\n",
    "print(\"original list:\")\n",
    "print(date_list)\n",
    "new_list = list(map(get_second, date_list))\n",
    "print(\"seconds list:\")\n",
    "print(new_list)\n",
    "\n",
    "# lambda\n",
    "get_second_2 = lambda date_obj: date_obj.second     # lambda functions let you create functions in one line\n",
    "second = get_second_2(datetime.datetime.now())      # use them like a normal function\n",
    "\n",
    "# map revisisted\n",
    "new_list = list(map(lambda date_obj: date_obj.second, date_list))\n",
    "\n",
    "# filter - extract even numbers\n",
    "unfiltered_list = list(range(10))\n",
    "filtered_list = list(filter(lambda x: x % 2 == 0, unfiltered_list))\n",
    "\n",
    "# reduce\n",
    "boolean_list = [True, True, False, True, False, False]\n",
    "and_result = reduce(lambda prev_val, next_val: prev_val and next_val, boolean_list)   # and of all the items\n",
    "or_result = reduce(lambda prev_val, next_val: prev_val or next_val, boolean_list)     # or of all the items"
   ]
  },
  {
   "cell_type": "code",
   "execution_count": 37,
   "metadata": {},
   "outputs": [
    {
     "name": "stdout",
     "output_type": "stream",
     "text": [
      "['aa', 'ab', 'ac', 'ad', 'ae', 'ba', 'bb', 'bc', 'bd', 'be', 'ca', 'cb', 'cc', 'cd', 'ce']\n",
      "['aa', 'ab', 'ac', 'ad', 'ba', 'bb', 'bc', 'bd', 'ca', 'cb', 'cc', 'cd']\n"
     ]
    }
   ],
   "source": [
    "# a big example\n",
    "\n",
    "unfiltered_l = [c1 + c2 for c1 in 'abc' for c2 in 'abcde']   # ['aa', 'ab', 'ac', 'ad', 'ae', 'ba', 'bb', 'bc', 'bd', 'be', 'ca', 'cb', 'cc', 'cd', 'ce']\n",
    "print(unfiltered_l)\n",
    "\n",
    "str_to_exclude = ['a', 'e']\n",
    "\n",
    "filtered_list = []\n",
    "for item in unfiltered_l:                 # this loop will filter out all items that contain a letter from the str_to_exclue list\n",
    "    must_filter = False\n",
    "    for excluded_str in str_to_exclude:\n",
    "        if excluded_str in item:\n",
    "            must_filter = True\n",
    "    if not must_filter:\n",
    "        filtered_list.append(item)\n",
    "\n",
    "# this filter-reduce statement does the same thing as above\n",
    "filtered_l_2 = list(filter(lambda item: \n",
    "                           reduce(lambda prev_val, excluded_str: excluded_str not in item and prev_val, str_to_exclude), \n",
    "                           unfiltered_l))\n",
    "print(filtered_l_2)"
   ]
  },
  {
   "cell_type": "markdown",
   "metadata": {},
   "source": [
    "<h4>Generator Functions</h4>\n",
    "<p>A type of object, typically implemented as a function using the yield keyword, that generates results one at a time. For example, \"range\" is a generator; it generates sequential numbers one at a time. Generators can be converted to lists or iterated over with a for loop.</p>"
   ]
  },
  {
   "cell_type": "code",
   "execution_count": 42,
   "metadata": {},
   "outputs": [
    {
     "name": "stdout",
     "output_type": "stream",
     "text": [
      "<generator object gen_fib at 0x000001F20D454A98>\n",
      "1\n",
      "2\n",
      "3\n",
      "5\n",
      "8\n",
      "13\n",
      "21\n",
      "34\n",
      "55\n",
      "89\n"
     ]
    }
   ],
   "source": [
    "# generator functions\n",
    "\n",
    "def gen_fib(n):\n",
    "    count = 0\n",
    "    prev_val = 0\n",
    "    curr_val = 1\n",
    "    while count < n:\n",
    "        next_val = prev_val + curr_val\n",
    "        yield next_val                   # return a value but maintain place in execution\n",
    "        prev_val = curr_val\n",
    "        curr_val = next_val\n",
    "        count += 1\n",
    "    \n",
    "fib = gen_fib(10)\n",
    "print(fib)              # fib is a generator object\n",
    "print(next(fib))        # generators can be iterated through using 'next'\n",
    "print(next(fib))\n",
    "for val in fib:         # generators can also be iterated through with a for loop\n",
    "    print(val)"
   ]
  },
  {
   "cell_type": "markdown",
   "metadata": {},
   "source": [
    "<h2>Misc Other Topics</h2>\n",
    "<ul>\n",
    "    <li> decorators - pretty function wrappers</li>\n",
    "    <li> itertools and iterators - extensions on iteration</li>\n",
    "    <li> multithreading - concurrent processing</li>\n",
    "    <li> context managers (the \"with\" keyword) - used for opening files safely</li>\n",
    "    <li> docstrings - documentation embedded in code </li>\n",
    "    <li> development environment - IDE, pip, conda, vertualenv, jupyter, import statements </li>\n",
    "</ul>"
   ]
  },
  {
   "cell_type": "markdown",
   "metadata": {},
   "source": [
    "<h2>PyU4V</h2>"
   ]
  },
  {
   "cell_type": "code",
   "execution_count": 5,
   "metadata": {},
   "outputs": [
    {
     "name": "stdout",
     "output_type": "stream",
     "text": [
      "Requirement already up-to-date: PyU4V in c:\\users\\vallaj\\appdata\\local\\programs\\python\\python37\\lib\\site-packages (3.0.0.17)\n",
      "Requirement already satisfied, skipping upgrade: six in c:\\users\\vallaj\\appdata\\local\\programs\\python\\python37\\lib\\site-packages (from PyU4V) (1.12.0)\n",
      "Requirement already satisfied, skipping upgrade: requests in c:\\users\\vallaj\\appdata\\local\\programs\\python\\python37\\lib\\site-packages (from PyU4V) (2.22.0)\n",
      "Requirement already satisfied, skipping upgrade: urllib3 in c:\\users\\vallaj\\appdata\\local\\programs\\python\\python37\\lib\\site-packages (from PyU4V) (1.25.3)\n",
      "Requirement already satisfied, skipping upgrade: certifi>=2017.4.17 in c:\\users\\vallaj\\appdata\\local\\programs\\python\\python37\\lib\\site-packages (from requests->PyU4V) (2019.6.16)\n",
      "Requirement already satisfied, skipping upgrade: chardet<3.1.0,>=3.0.2 in c:\\users\\vallaj\\appdata\\local\\programs\\python\\python37\\lib\\site-packages (from requests->PyU4V) (3.0.4)\n",
      "Requirement already satisfied, skipping upgrade: idna<2.9,>=2.5 in c:\\users\\vallaj\\appdata\\local\\programs\\python\\python37\\lib\\site-packages (from requests->PyU4V) (2.8)\n",
      "Note: you may need to restart the kernel to use updated packages.\n"
     ]
    }
   ],
   "source": [
    "%pip install PyU4V --upgrade"
   ]
  },
  {
   "cell_type": "code",
   "execution_count": 145,
   "metadata": {},
   "outputs": [
    {
     "name": "stderr",
     "output_type": "stream",
     "text": [
      "No array id specified. Please set array ID using the 'set_array_id(array_id)' function.\n"
     ]
    }
   ],
   "source": [
    "from PyU4V.univmax_conn import U4VConn\n",
    "conn = U4VConn(u4v_version='90', server_ip='10.246.166.181', port=8443, verify=False, username='smc', password='smc')"
   ]
  },
  {
   "cell_type": "code",
   "execution_count": null,
   "metadata": {},
   "outputs": [],
   "source": [
    "x = conn.provisioning.get_host_list()"
   ]
  }
 ],
 "metadata": {
  "kernelspec": {
   "display_name": "Python 3",
   "language": "python",
   "name": "python3"
  },
  "language_info": {
   "codemirror_mode": {
    "name": "ipython",
    "version": 3
   },
   "file_extension": ".py",
   "mimetype": "text/x-python",
   "name": "python",
   "nbconvert_exporter": "python",
   "pygments_lexer": "ipython3",
   "version": "3.7.3"
  }
 },
 "nbformat": 4,
 "nbformat_minor": 4
}
