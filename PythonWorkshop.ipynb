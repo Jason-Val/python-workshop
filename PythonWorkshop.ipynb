{
 "cells": [
  {
   "cell_type": "markdown",
   "metadata": {},
   "source": [
    "<h1>Intro to Python</h1>\n",
    "<h2>Setup</h2>\n",
    "<ol>\n",
    "    <li> Download Python </li>\n",
    "    <li> Download Jupyter Labs </li>\n",
    "    <li> Download workshop notebook </li>\n",
    "    <li> Open in Jupetyr Labs </li>\n",
    "</ol>\n",
    "<h2>Basic Variables</h2>\n",
    "<table style=\"width:100%\">\n",
    "  <tr>\n",
    "    <th>Type</th>\n",
    "    <th>Examples</th> \n",
    "  </tr>\n",
    "  <tr>\n",
    "    <td>Integers</td>\n",
    "    <td><code>4</code></td> \n",
    "  </tr>\n",
    "  <tr>\n",
    "    <td>Floats</td>\n",
    "    <td><code>4.3</code></td> \n",
    "  </tr>\n",
    "  <tr>\n",
    "    <td>Booleans</td>\n",
    "    <td><code>True</code></td> \n",
    "  </tr>\n",
    "  <tr>\n",
    "    <td>Strings</td>\n",
    "    <td><code>\"Hello!\", 'Me too!'</code></td> \n",
    "  </tr>\n",
    "  <tr>\n",
    "    <td>Tuples</td>\n",
    "    <td><code>(1, 2, 3, 4)</code></td> \n",
    "  </tr>\n",
    "  <tr>\n",
    "    <td>Lists</td>\n",
    "    <td><code>[1, 2, 3, 4]</code></td> \n",
    "  </tr>\n",
    "  <tr>\n",
    "    <td>Dictionaries</td>\n",
    "    <td><code>{'name': 'apple', 'color': 'red'}</code></td> \n",
    "  </tr>\n",
    "  <tr>\n",
    "    <td>Sets</td>\n",
    "    <td><code>set(1, 2, 3, 4)</code></td> \n",
    "  </tr>\n",
    "</table>"
   ]
  },
  {
   "cell_type": "code",
   "execution_count": 93,
   "metadata": {},
   "outputs": [],
   "source": [
    "# assignment and basic operations (integers, strings, booleans)\n",
    "\n",
    "# automatic casting\n",
    "\n",
    "# basic list operations\n",
    "\n",
    "# reverse indexing\n",
    "\n",
    "# slicing\n",
    "\n",
    "# tuples\n"
   ]
  },
  {
   "cell_type": "markdown",
   "metadata": {},
   "source": [
    "<h2>Functions</h2>"
   ]
  },
  {
   "cell_type": "code",
   "execution_count": 112,
   "metadata": {},
   "outputs": [],
   "source": [
    "from functools import partial\n",
    "\n",
    "# make an addition function\n",
    "\n",
    "# make a generalized addition function using packing/unpacking\n"
   ]
  },
  {
   "cell_type": "markdown",
   "metadata": {},
   "source": [
    "<h2>Closures - Making Factory Functions</h2>\n",
    "<p>Functions can be nested within each other, and the inner function inherits the parent's state. Nesting functions can make code more readible, hide inner functions that aren't relevant to the rest of the codebase, or create closures.</p>\n",
    "<p>Closures are functions which return other functions. The functions returned are parametized on the outer function's arguments, and may use the outer scope to maintain state or \"memory.\"</p>"
   ]
  },
  {
   "cell_type": "code",
   "execution_count": 3,
   "metadata": {},
   "outputs": [],
   "source": [
    "def generate_power(nth_power):                 # this function creates a power function\n",
    "    pass"
   ]
  },
  {
   "cell_type": "markdown",
   "metadata": {},
   "source": [
    "<h2>Lists and Looping</h2>"
   ]
  },
  {
   "cell_type": "markdown",
   "metadata": {},
   "source": [
    "<h4>If, Else</h4>"
   ]
  },
  {
   "cell_type": "code",
   "execution_count": 74,
   "metadata": {},
   "outputs": [],
   "source": [
    "# if\n",
    "\n",
    "# if elif\n",
    "\n",
    "# inline if\n"
   ]
  },
  {
   "cell_type": "markdown",
   "metadata": {},
   "source": [
    "<h4>Looping</h4>"
   ]
  },
  {
   "cell_type": "code",
   "execution_count": 73,
   "metadata": {},
   "outputs": [],
   "source": [
    "# for\n",
    "\n",
    "# while\n"
   ]
  },
  {
   "cell_type": "markdown",
   "metadata": {},
   "source": [
    "<h2>Advanced Looping - List Comprehensions</h2>\n",
    "<p>We can rewrite for loops that construct lists in one line using list comprehensions.</p>"
   ]
  },
  {
   "cell_type": "code",
   "execution_count": 75,
   "metadata": {},
   "outputs": [],
   "source": [
    "# list comprehensions simple\n",
    "\n",
    "# advanced\n",
    "l = [[1, 2, 3], [4, 5, 6], [7, 8]]               # this list is nested. We want to flatten it\n",
    "sublist = None\n",
    "item = None\n",
    "\n",
    "flat_list = []\n",
    "for sublist in l:                                # this loop flattens the list, but it's cumbersome\n",
    "    for item in sublist:\n",
    "        flat_list.append(item)\n"
   ]
  },
  {
   "cell_type": "markdown",
   "metadata": {},
   "source": [
    "<h2>Dictionaries</h2>\n",
    "<p>Dictionaries are a way of stucturing data. They organize data as key/value pairs and are very powerful. Dictionaries can be nested to create complex structures.</p>"
   ]
  },
  {
   "cell_type": "code",
   "execution_count": 31,
   "metadata": {},
   "outputs": [
    {
     "name": "stdout",
     "output_type": "stream",
     "text": [
      "date: 2019-08-07 16:27:17.469195\n",
      "category: overwritten\n",
      "error: None\n",
      "succeeded: True\n"
     ]
    }
   ],
   "source": [
    "import datetime\n",
    "\n",
    "# dictionaries - status report 1 (date, category, error, succeeded)\n",
    "status_report = {\n",
    "    'date': datetime.datetime.now(),\n",
    "    'category': 'array_update',\n",
    "    'error': None,\n",
    "    'succeeded': True\n",
    "}\n",
    "\n",
    "# accessing dictionary elements\n",
    "\n",
    "# iteration\n"
   ]
  },
  {
   "cell_type": "markdown",
   "metadata": {},
   "source": [
    "<h4>Example usage: counting letter occurrances</h4>"
   ]
  },
  {
   "cell_type": "code",
   "execution_count": 6,
   "metadata": {},
   "outputs": [],
   "source": [
    "import string\n",
    "text = \"\"\"Our story began with two technology companies and one shared vision: to provide greater access to technology for people \n",
    "    around the world. Dell Technologies is instrumental in changing the digital landscape the world over, fuelled by the desire \n",
    "    to drive human progress through technology.\"\"\""
   ]
  },
  {
   "cell_type": "markdown",
   "metadata": {},
   "source": [
    "<h2>Classes</h2>"
   ]
  },
  {
   "cell_type": "code",
   "execution_count": 76,
   "metadata": {},
   "outputs": [],
   "source": [
    "# status report 2\n",
    "class StatusReport(object):\n",
    "    _count = 0\n",
    "    \n",
    "    def __init__(self, category, succeeded=True):\n",
    "        self.id = StatusReport._count\n",
    "        StatusReport._count += 1\n",
    "        self.date = datetime.datetime.now()\n",
    "        self.category = category\n",
    "        self.error = None\n",
    "        self.succeeded = succeeded\n",
    "        \n",
    "    def set_error(self, error):\n",
    "        self.error = error\n",
    "        self.succeeded = False\n",
    "    \n",
    "    def __str__(self):\n",
    "        return str(\"id: {}, category: {}\".format(self.id, self.category))\n",
    "    \n",
    "    def __call__(self):\n",
    "        return \"I was called!\"\n",
    "    \n",
    "    def __getitem__(self, key):\n",
    "        return \"I was indexed with key {}\".format(key)\n"
   ]
  },
  {
   "cell_type": "markdown",
   "metadata": {},
   "source": [
    "<h4>Inheritance</h4>\n",
    "<p>Classes can inherit from others. This lets you create more specific sub-types. Subclasses can override parent data and functions or add additional data and functions.</p>"
   ]
  },
  {
   "cell_type": "code",
   "execution_count": 8,
   "metadata": {},
   "outputs": [],
   "source": [
    "from enum import Enum\n",
    "\n",
    "class ReportType(Enum):\n",
    "    RESET = 0\n",
    "    PROVISION = 1\n",
    "    SHUTDOWN = 2\n",
    "\n",
    "class ResetReport(StatusReport):\n",
    "    def __init__(self, reset_method, succeeded=True):\n",
    "        super().__init__(ReportType.RESET, succeeded)       # calls to super invoke parent behavior\n",
    "        self.reset_method = reset_method                    # add new data\n",
    "        \n",
    "    def set_error(self, error):                             # overrides parent function\n",
    "        print(\"overridden!\")\n",
    "        super().set_error(error)\n"
   ]
  },
  {
   "cell_type": "markdown",
   "metadata": {},
   "source": [
    "<h2>Looping Again - Looping Wizardry</h2>\n",
    "<h4>Some preliminary setup...</h4>"
   ]
  },
  {
   "cell_type": "code",
   "execution_count": 53,
   "metadata": {},
   "outputs": [
    {
     "name": "stdout",
     "output_type": "stream",
     "text": [
      "Getting list...\n",
      "\tCalculating next datetime...\n",
      "\tCalculating next datetime...\n",
      "\tCalculating next datetime...\n",
      "\tCalculating next datetime...\n",
      "\tCalculating next datetime...\n",
      "\tCalculating next datetime...\n",
      "Done\n"
     ]
    }
   ],
   "source": [
    "import datetime\n",
    "import time\n",
    "\n",
    "# setup - create a list of datetimes and a function that extracts the second from a datetime\n",
    "d = datetime.datetime.now()\n",
    "\n",
    "def get_next():\n",
    "    print(\"\\tCalculating next datetime...\")\n",
    "    time.sleep(1)\n",
    "    return datetime.datetime.now()\n",
    "\n",
    "print(\"Getting list...\")\n",
    "date_list = [get_next() for x in range(6)]\n",
    "print(\"Done\")\n",
    "\n",
    "def get_second(datetime_obj):\n",
    "    return datetime_obj.second"
   ]
  },
  {
   "cell_type": "markdown",
   "metadata": {},
   "source": [
    "<h4>Map, Filter, and Reduce</h4>\n",
    "<p>Map, filter, and reduce are functional programming style functions for manipulating lists and other iterables. They operate in one line and often use lambda functions. They are lazily evaluated and only calculate the next value once requested</p>\n",
    "<ul>\n",
    "    <li><b>map</b>: iterate over a list and replace each item with something else</li>\n",
    "    <li><b>filter</b>: filter out specific items from a list</li>\n",
    "    <li><b>reduce</b>: process two items of a list at the same time and compound the results</li>\n",
    "</ul>"
   ]
  },
  {
   "cell_type": "code",
   "execution_count": 77,
   "metadata": {},
   "outputs": [],
   "source": [
    "from functools import reduce\n",
    "\n",
    "# map\n",
    "\n",
    "# lambda\n",
    "\n",
    "# map revisisted\n",
    "\n",
    "# filter - extract even numbers\n",
    "\n",
    "# reduce\n"
   ]
  },
  {
   "cell_type": "code",
   "execution_count": 78,
   "metadata": {},
   "outputs": [
    {
     "name": "stdout",
     "output_type": "stream",
     "text": [
      "['aa', 'ab', 'ac', 'ad', 'ae', 'ba', 'bb', 'bc', 'bd', 'be', 'ca', 'cb', 'cc', 'cd', 'ce']\n"
     ]
    }
   ],
   "source": [
    "# a big example\n",
    "\n",
    "unfiltered_l = [c1 + c2 for c1 in 'abc' for c2 in 'abcde']   # ['aa', 'ab', 'ac', 'ad', 'ae', 'ba', 'bb', 'bc', 'bd', 'be', 'ca', 'cb', 'cc', 'cd', 'ce']\n",
    "print(unfiltered_l)\n",
    "\n",
    "str_to_exclude = ['a', 'e']\n",
    "\n",
    "filtered_list = []\n",
    "for item in unfiltered_l:                 # this loop will filter out all items that contain a letter from the str_to_exclue list\n",
    "    must_filter = False\n",
    "    for excluded_str in str_to_exclude:\n",
    "        if excluded_str in item:\n",
    "            must_filter = True\n",
    "    if not must_filter:\n",
    "        filtered_list.append(item)\n",
    "\n",
    "# this filter-reduce statement does the same thing as above\n"
   ]
  },
  {
   "cell_type": "markdown",
   "metadata": {},
   "source": [
    "<h4>Generator Functions</h4>\n",
    "<p>A type of object, typically implemented as a function using the yield keyword, that generates results one at a time. For example, \"range\" is a generator; it generates sequential numbers one at a time. Generators can be converted to lists or iterated over with a for loop.</p>"
   ]
  },
  {
   "cell_type": "code",
   "execution_count": 13,
   "metadata": {},
   "outputs": [],
   "source": [
    "# generator functions\n",
    "\n",
    "def gen_fib(n):\n",
    "    pass"
   ]
  },
  {
   "cell_type": "markdown",
   "metadata": {},
   "source": [
    "<h2>Misc Other Topics</h2>\n",
    "<ul>\n",
    "    <li> decorators - pretty function wrappers</li>\n",
    "    <li> itertools and iterators - extensions on iteration</li>\n",
    "    <li> multithreading - concurrent processing</li>\n",
    "    <li> context managers (the \"with\" keyword) - used for opening files safely</li>\n",
    "    <li> docstrings - documentation embedded in code </li>\n",
    "    <li> development environment - IDE, pip, conda, vertualenv, jupyter, import statements </li>\n",
    "</ul>"
   ]
  },
  {
   "cell_type": "markdown",
   "metadata": {},
   "source": [
    "<h2>PyU4V</h2>"
   ]
  },
  {
   "cell_type": "code",
   "execution_count": 61,
   "metadata": {},
   "outputs": [
    {
     "name": "stdout",
     "output_type": "stream",
     "text": [
      "Requirement already up-to-date: PyU4V in c:\\users\\vallaj\\appdata\\local\\programs\\python\\python37\\lib\\site-packages (3.0.0.17)\n",
      "Requirement already satisfied, skipping upgrade: six in c:\\users\\vallaj\\appdata\\local\\programs\\python\\python37\\lib\\site-packages (from PyU4V) (1.12.0)\n",
      "Requirement already satisfied, skipping upgrade: urllib3 in c:\\users\\vallaj\\appdata\\local\\programs\\python\\python37\\lib\\site-packages (from PyU4V) (1.25.3)\n",
      "Requirement already satisfied, skipping upgrade: requests in c:\\users\\vallaj\\appdata\\local\\programs\\python\\python37\\lib\\site-packages (from PyU4V) (2.22.0)\n",
      "Requirement already satisfied, skipping upgrade: idna<2.9,>=2.5 in c:\\users\\vallaj\\appdata\\local\\programs\\python\\python37\\lib\\site-packages (from requests->PyU4V) (2.8)\n",
      "Requirement already satisfied, skipping upgrade: certifi>=2017.4.17 in c:\\users\\vallaj\\appdata\\local\\programs\\python\\python37\\lib\\site-packages (from requests->PyU4V) (2019.6.16)\n",
      "Requirement already satisfied, skipping upgrade: chardet<3.1.0,>=3.0.2 in c:\\users\\vallaj\\appdata\\local\\programs\\python\\python37\\lib\\site-packages (from requests->PyU4V) (3.0.4)\n",
      "Note: you may need to restart the kernel to use updated packages.\n"
     ]
    }
   ],
   "source": [
    "%pip install PyU4V --upgrade"
   ]
  },
  {
   "cell_type": "code",
   "execution_count": 80,
   "metadata": {},
   "outputs": [
    {
     "name": "stderr",
     "output_type": "stream",
     "text": [
      "No array id specified. Please set array ID using the 'set_array_id(array_id)' function.\n"
     ]
    }
   ],
   "source": [
    "from PyU4V.univmax_conn import U4VConn\n",
    "conn = U4VConn(u4v_version='90', server_ip='', port=8443, verify=False, username='', password='')\n",
    "conn.set_array_id('000197900536')"
   ]
  },
  {
   "cell_type": "code",
   "execution_count": null,
   "metadata": {},
   "outputs": [],
   "source": []
  }
 ],
 "metadata": {
  "kernelspec": {
   "display_name": "Python 3",
   "language": "python",
   "name": "python3"
  },
  "language_info": {
   "codemirror_mode": {
    "name": "ipython",
    "version": 3
   },
   "file_extension": ".py",
   "mimetype": "text/x-python",
   "name": "python",
   "nbconvert_exporter": "python",
   "pygments_lexer": "ipython3",
   "version": "3.7.3"
  }
 },
 "nbformat": 4,
 "nbformat_minor": 4
}
